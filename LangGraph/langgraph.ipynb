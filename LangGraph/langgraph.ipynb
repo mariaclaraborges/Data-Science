{
 "cells": [
  {
   "cell_type": "code",
   "execution_count": 1,
   "metadata": {},
   "outputs": [],
   "source": [
    "import os, getpass\n",
    "\n",
    "def _set_env(var: str):\n",
    "    if not os.environ.get(var):\n",
    "        os.environ[var] = getpass.getpass(f\"{var}: \")\n",
    "\n",
    "_set_env(\"OPENAI_API_KEY\")"
   ]
  },
  {
   "cell_type": "code",
   "execution_count": 2,
   "metadata": {},
   "outputs": [],
   "source": [
    "from langchain_openai import ChatOpenAI\n",
    "from langchain_core.messages import SystemMessage, HumanMessage, RemoveMessage\n",
    "from langchain_core.runnables import RunnableConfig\n",
    "from langchain.prompts import PromptTemplate\n",
    "from langchain_core.output_parsers import StrOutputParser\n",
    "\n",
    "from langgraph.checkpoint.memory import MemorySaver\n",
    "from langgraph.graph import StateGraph, START, END\n",
    "from langgraph.graph import MessagesState"
   ]
  },
  {
   "cell_type": "markdown",
   "metadata": {
    "id": "KtaxbR8JsIM3"
   },
   "source": [
    "# Chamando o Langchain"
   ]
  },
  {
   "cell_type": "code",
   "execution_count": 3,
   "metadata": {
    "id": "By1-NC9HuRWg"
   },
   "outputs": [],
   "source": [
    "llm = ChatOpenAI(model=\"gpt-4o\", temperature=0) \n"
   ]
  },
  {
   "cell_type": "code",
   "execution_count": 4,
   "metadata": {
    "id": "Yqo2GLBXuco5"
   },
   "outputs": [],
   "source": [
    "modelo_de_prompt = PromptTemplate(\n",
    "    template=\"Me diga quais os impactos da IA no assunto {assunto}\",\n",
    "    input_variables=[\"assunto\"]\n",
    ")"
   ]
  },
  {
   "cell_type": "code",
   "execution_count": 5,
   "metadata": {
    "id": "MMP_wq35vOdx"
   },
   "outputs": [],
   "source": [
    "cadeia = modelo_de_prompt | llm | StrOutputParser()"
   ]
  },
  {
   "cell_type": "code",
   "execution_count": 6,
   "metadata": {
    "id": "pu91tH6rwQMl"
   },
   "outputs": [],
   "source": [
    "resposta = cadeia.invoke({\"assunto\": \"Agricultura\"})"
   ]
  },
  {
   "cell_type": "code",
   "execution_count": 7,
   "metadata": {
    "colab": {
     "base_uri": "https://localhost:8080/"
    },
    "id": "0elrtxG7wzD9",
    "outputId": "1e7b3d4b-bd33-430f-d3a7-797376ee1299"
   },
   "outputs": [
    {
     "name": "stdout",
     "output_type": "stream",
     "text": [
      "A inteligência artificial (IA) tem um impacto significativo na agricultura, trazendo uma série de benefícios e algumas preocupações. Aqui estão alguns dos principais impactos:\n",
      "\n",
      "1. **Aumento da Produtividade**: A IA pode ajudar a aumentar a produtividade agrícola através da otimização de processos. Algoritmos de aprendizado de máquina podem analisar dados de solo, clima e culturas para recomendar práticas agrícolas mais eficientes.\n",
      "\n",
      "2. **Agricultura de Precisão**: Sensores e drones equipados com IA podem monitorar campos em tempo real, permitindo que os agricultores apliquem água, fertilizantes e pesticidas de maneira mais precisa e apenas onde necessário, reduzindo custos e impactos ambientais.\n",
      "\n",
      "3. **Gestão de Recursos**: A IA pode ajudar na gestão eficiente de recursos como água e energia, através de sistemas de irrigação inteligentes que ajustam automaticamente o uso de água com base nas condições climáticas e nas necessidades das plantas.\n",
      "\n",
      "4. **Previsão de Colheitas**: Modelos preditivos podem analisar dados históricos e atuais para prever rendimentos de colheitas, ajudando os agricultores a planejar melhor suas operações e a gerenciar riscos.\n",
      "\n",
      "5. **Detecção de Doenças e Pragas**: Sistemas de IA podem identificar sinais precoces de doenças e infestações de pragas em plantas, permitindo intervenções rápidas e reduzindo perdas.\n",
      "\n",
      "6. **Automação de Máquinas Agrícolas**: Tratores e colheitadeiras autônomos, guiados por IA, podem operar com mínima intervenção humana, aumentando a eficiência e reduzindo a necessidade de mão de obra.\n",
      "\n",
      "7. **Sustentabilidade**: A IA pode contribuir para práticas agrícolas mais sustentáveis, ajudando a minimizar o uso de insumos químicos e a promover a saúde do solo e da biodiversidade.\n",
      "\n",
      "8. **Desafios e Preocupações**: Apesar dos benefícios, a adoção da IA na agricultura também levanta preocupações, como a dependência de tecnologia, questões de privacidade de dados, e o impacto no emprego rural, já que a automação pode reduzir a necessidade de trabalhadores humanos.\n",
      "\n",
      "9. **Acesso e Desigualdade**: Pequenos agricultores em regiões menos desenvolvidas podem ter dificuldade em acessar tecnologias avançadas de IA, o que pode aumentar a desigualdade no setor agrícola.\n",
      "\n",
      "Em resumo, a IA tem o potencial de transformar a agricultura, tornando-a mais eficiente, sustentável e resiliente. No entanto, é importante abordar os desafios associados para garantir que os benefícios sejam amplamente distribuídos.\n"
     ]
    }
   ],
   "source": [
    "print(resposta)"
   ]
  },
  {
   "cell_type": "markdown",
   "metadata": {
    "id": "Kl9jqpXqxpG4"
   },
   "source": [
    "# Ferramentas"
   ]
  },
  {
   "cell_type": "code",
   "execution_count": 8,
   "metadata": {
    "id": "GViZjO6Ayd--"
   },
   "outputs": [],
   "source": [
    "from langchain_community.tools.tavily_search import TavilySearchResults\n",
    "from langchain_core.tools import tool\n",
    "import os\n",
    "from langchain_core.prompts import PromptTemplate\n",
    "from langchain_core.output_parsers import StrOutputParser\n",
    "from langchain_openai import ChatOpenAI"
   ]
  },
  {
   "cell_type": "code",
   "execution_count": 9,
   "metadata": {},
   "outputs": [],
   "source": [
    "def _set_env(var: str):\n",
    "    if not os.environ.get(var):\n",
    "        os.environ[var] = getpass.getpass(f\"{var}: \")\n",
    "\n",
    "_set_env(\"TAVILY_API_KEY\")"
   ]
  },
  {
   "cell_type": "code",
   "execution_count": 10,
   "metadata": {
    "id": "heTMRfrOxt7r"
   },
   "outputs": [],
   "source": [
    "@tool\n",
    "def busca_web(query: str) -> list:\n",
    "  \"\"\"\n",
    "  Busca na web por um termo específico. Use esta ferramenta para encontrar informações atualizadas sobre qualquer assunto.\n",
    "  \"\"\"\n",
    "  tavily_search = TavilySearchResults(max_results=2, search_depth='advanced', max_tokens=1000)\n",
    "  resultado_busca = tavily_search.invoke(query)\n",
    "  return resultado_busca"
   ]
  },
  {
   "cell_type": "code",
   "execution_count": 11,
   "metadata": {},
   "outputs": [
    {
     "name": "stderr",
     "output_type": "stream",
     "text": [
      "C:\\Users\\mborges\\AppData\\Local\\Temp\\ipykernel_19896\\746746639.py:1: LangChainDeprecationWarning: The method `BaseTool.__call__` was deprecated in langchain-core 0.1.47 and will be removed in 1.0. Use :meth:`~invoke` instead.\n",
      "  busca_web('IA na Agricultura')\n",
      "C:\\Users\\mborges\\AppData\\Local\\Temp\\ipykernel_19896\\1046159243.py:6: LangChainDeprecationWarning: The class `TavilySearchResults` was deprecated in LangChain 0.3.25 and will be removed in 1.0. An updated version of the class exists in the :class:`~langchain-tavily package and should be used instead. To use it run `pip install -U :class:`~langchain-tavily` and import as `from :class:`~langchain_tavily import TavilySearch``.\n",
      "  tavily_search = TavilySearchResults(max_results=2, search_depth='advanced', max_tokens=1000)\n"
     ]
    },
    {
     "data": {
      "text/plain": [
       "[{'title': 'Inteligência artificial no agro: conheça 6 aplicações - Agrishow Digital',\n",
       "  'url': 'https://digital.agrishow.com.br/artigos/inteligencia-artificial-no-agro-6-aplicacoes-que-voce-precisa-conhecer/',\n",
       "  'content': '6 aplicações principais da IA no agro. Com a capacidade de processar grandes volumes de dados, aprender padrões complexos e tomar decisões, a IA',\n",
       "  'score': 0.7407191},\n",
       " {'title': 'Tecnologias da informação e comunicação e suas relações com a ...',\n",
       "  'url': 'https://www.embrapa.br/busca-de-publicacoes/-/publicacao/1012319/tecnologias-da-informacao-e-comunicacao-e-suas-relacoes-com-a-agricultura',\n",
       "  'content': 'Resumo:Visando promover o intercâmbio de conhecimento e estabelecer a participação das novas tecnologias sobre a competitividade e a sustentabilidade da agricultura regional, a Embrapa Informática Agropecuária tomou a iniciativa de organizar a elaboração deste livro que trata do uso das tecnologias da informação e comunicação e suas relações com a agricultura. Este é o fruto de um trabalho conjunto com o Instituto Nacional de Tecnología Agropecuaria (Inta Argentina), Instituto Nacional de [...] Publicações e Bibliotecas/\\n   Busca de Publicações/\\n   Tecnologias da informação e comunicação e suas relações com a agricultura.\\n\\nPublicações\\n===========\\n\\nTecnologias da informação e comunicação e suas relações com a agricultura.\\n==========================================================================\\n\\n\\n\\n\\n\\nImage 2: imagem\\n\\nAutoria:MASSRUHÁ, S. M. F. S.; LEITE, M. A. de A.; LUCHIARI JUNIOR, A.; ROMANI, L. A. S. [...] Ano de publicação:2014\\n\\nTipo de publicação:Livros\\n\\nUnidade:Embrapa Agricultura Digital',\n",
       "  'score': 0.5370662}]"
      ]
     },
     "execution_count": 11,
     "metadata": {},
     "output_type": "execute_result"
    }
   ],
   "source": [
    "busca_web('IA na Agricultura')"
   ]
  },
  {
   "cell_type": "code",
   "execution_count": 17,
   "metadata": {
    "id": "YXj0oCVXSrDK"
   },
   "outputs": [],
   "source": [
    "tools = [busca_web]"
   ]
  },
  {
   "cell_type": "code",
   "execution_count": 15,
   "metadata": {
    "colab": {
     "base_uri": "https://localhost:8080/"
    },
    "id": "xVXhwr80zQKJ",
    "outputId": "c4aa6f80-6252-4ea2-e695-7cc21d733b4b"
   },
   "outputs": [],
   "source": [
    "llm = ChatOpenAI(model=\"gpt-4o\", temperature=0)\n"
   ]
  },
  {
   "cell_type": "code",
   "execution_count": 14,
   "metadata": {
    "id": "pWlsSLTfSueu"
   },
   "outputs": [],
   "source": [
    "llm_com_ferramenta = llm.bind_tools(tools)"
   ]
  },
  {
   "cell_type": "code",
   "execution_count": 18,
   "metadata": {},
   "outputs": [],
   "source": [
    "\n",
    "modelo_de_prompt = PromptTemplate(\n",
    "    template=\"Usando apenas as tools disponíveis me diga quais os impactos da IA no assunto {assunto}\",\n",
    "    input_variables=[\"assunto\"]\n",
    ")"
   ]
  },
  {
   "cell_type": "code",
   "execution_count": 19,
   "metadata": {},
   "outputs": [],
   "source": [
    "cadeia = modelo_de_prompt | llm_com_ferramenta | StrOutputParser()\n"
   ]
  },
  {
   "cell_type": "code",
   "execution_count": 21,
   "metadata": {
    "id": "oH8jD1piUPbp"
   },
   "outputs": [
    {
     "name": "stdout",
     "output_type": "stream",
     "text": [
      "\n"
     ]
    }
   ],
   "source": [
    "resposta = cadeia.invoke({\"assunto\": \"Agricultura\"})\n",
    "print(resposta)"
   ]
  },
  {
   "cell_type": "code",
   "execution_count": 22,
   "metadata": {
    "id": "YnZQ_dHDUcy6"
   },
   "outputs": [],
   "source": [
    "prompt = \"\"\"\n",
    "    Usando apenas as tools disponíveis me diga quais os impactos da IA no assunto Agricultura\n",
    "    \"\"\""
   ]
  },
  {
   "cell_type": "code",
   "execution_count": 23,
   "metadata": {
    "id": "Hdlo9-qlUjWU"
   },
   "outputs": [],
   "source": [
    "resposta = llm_com_ferramenta.invoke(prompt)"
   ]
  },
  {
   "cell_type": "code",
   "execution_count": 24,
   "metadata": {
    "colab": {
     "base_uri": "https://localhost:8080/"
    },
    "id": "rZuEcYGAUylG",
    "outputId": "f1489691-bc9f-43d6-d6f9-d1202a6adece"
   },
   "outputs": [
    {
     "name": "stdout",
     "output_type": "stream",
     "text": [
      "content='' additional_kwargs={'tool_calls': [{'id': 'call_vyJ78fpz0UmFnYIhKNRTeGjw', 'function': {'arguments': '{\"query\":\"impactos da IA na agricultura\"}', 'name': 'busca_web'}, 'type': 'function'}], 'refusal': None} response_metadata={'token_usage': {'completion_tokens': 20, 'prompt_tokens': 77, 'total_tokens': 97, 'completion_tokens_details': {'accepted_prediction_tokens': 0, 'audio_tokens': 0, 'reasoning_tokens': 0, 'rejected_prediction_tokens': 0}, 'prompt_tokens_details': {'audio_tokens': 0, 'cached_tokens': 0}}, 'model_name': 'gpt-4o-2024-08-06', 'system_fingerprint': 'fp_07871e2ad8', 'id': 'chatcmpl-BznyVV9DNAJRVUqsaknC0MD7oBKHX', 'service_tier': 'default', 'finish_reason': 'tool_calls', 'logprobs': None} id='run--b2b31e65-a03d-4cea-9c6a-1062d87cad0e-0' tool_calls=[{'name': 'busca_web', 'args': {'query': 'impactos da IA na agricultura'}, 'id': 'call_vyJ78fpz0UmFnYIhKNRTeGjw', 'type': 'tool_call'}] usage_metadata={'input_tokens': 77, 'output_tokens': 20, 'total_tokens': 97, 'input_token_details': {'audio': 0, 'cache_read': 0}, 'output_token_details': {'audio': 0, 'reasoning': 0}}\n"
     ]
    }
   ],
   "source": [
    "print(resposta)"
   ]
  },
  {
   "cell_type": "markdown",
   "metadata": {
    "id": "rWjUAraKqc4d"
   },
   "source": [
    "# Agente ReAct"
   ]
  },
  {
   "cell_type": "code",
   "execution_count": 26,
   "metadata": {
    "id": "SHi2G_ZVkM--"
   },
   "outputs": [],
   "source": [
    "from langgraph.prebuilt import create_react_agent"
   ]
  },
  {
   "cell_type": "code",
   "execution_count": 25,
   "metadata": {
    "id": "pRDh2Q_ZxIuB"
   },
   "outputs": [],
   "source": [
    "system_prompt = \"\"\" Atue como um assistente útil.\n",
    "    Use as ferramentas fornecidas para responder às perguntas do usuário.\n",
    "    - busca_web: Retorna os resultados de uma busca na web.\n",
    "    Use a busca_web sempre que o usuário fizer uma pergunta sobre um tema específico e retorne o link dos artigos na resposta.\n",
    "\"\"\""
   ]
  },
  {
   "cell_type": "code",
   "execution_count": 27,
   "metadata": {
    "id": "bu5TD-7KXMdY"
   },
   "outputs": [],
   "source": [
    "agente_web = create_react_agent(model=llm, tools=tools, prompt=system_prompt)"
   ]
  },
  {
   "cell_type": "code",
   "execution_count": 28,
   "metadata": {
    "id": "JqilLKHjXvQ_"
   },
   "outputs": [],
   "source": [
    "resultado= agente_web.invoke({\"messages\": [(\"user\", \"Quais os impactos da IA na agricultura?\")]})"
   ]
  },
  {
   "cell_type": "code",
   "execution_count": 29,
   "metadata": {
    "colab": {
     "base_uri": "https://localhost:8080/"
    },
    "id": "-mtKh4FxYZsa",
    "outputId": "876a5013-3164-429b-a3b5-d20bd6031ff4"
   },
   "outputs": [
    {
     "data": {
      "text/plain": [
       "{'messages': [HumanMessage(content='Quais os impactos da IA na agricultura?', additional_kwargs={}, response_metadata={}, id='63362db9-9d6b-4441-80df-2b05af90eec4'),\n",
       "  AIMessage(content='', additional_kwargs={'tool_calls': [{'id': 'call_Y8ouHFVSqSyWzetSl1I2JjZ0', 'function': {'arguments': '{\"query\":\"impactos da IA na agricultura\"}', 'name': 'busca_web'}, 'type': 'function'}], 'refusal': None}, response_metadata={'token_usage': {'completion_tokens': 20, 'prompt_tokens': 128, 'total_tokens': 148, 'completion_tokens_details': {'accepted_prediction_tokens': 0, 'audio_tokens': 0, 'reasoning_tokens': 0, 'rejected_prediction_tokens': 0}, 'prompt_tokens_details': {'audio_tokens': 0, 'cached_tokens': 0}}, 'model_name': 'gpt-4o-2024-08-06', 'system_fingerprint': 'fp_07871e2ad8', 'id': 'chatcmpl-Bzo5YfmMWbxGhuloQ8Z4t29HEJZu7', 'service_tier': 'default', 'finish_reason': 'tool_calls', 'logprobs': None}, id='run--85ca47ce-7dcb-4427-8e58-82ad29297f99-0', tool_calls=[{'name': 'busca_web', 'args': {'query': 'impactos da IA na agricultura'}, 'id': 'call_Y8ouHFVSqSyWzetSl1I2JjZ0', 'type': 'tool_call'}], usage_metadata={'input_tokens': 128, 'output_tokens': 20, 'total_tokens': 148, 'input_token_details': {'audio': 0, 'cache_read': 0}, 'output_token_details': {'audio': 0, 'reasoning': 0}}),\n",
       "  ToolMessage(content='[{\"title\": \"[PDF] Inteligência artificial aplicada na agricultura de precisão e digital\", \"url\": \"https://ainfo.cnptia.embrapa.br/digital/bitstream/doc/1170729/1/P-Inteligencia-artificial-aplicada-na.pdf\", \"content\": \"especialmente na implementação dessas tecnologias em VANTs, robôs e máquinas agrícolas. Essa análise detalhada não apenas ilustra o potencial transformador da IA na agricultura, mas também propõe caminhos para futuras pesquisas e desenvolvimentos tecnológicos que poderiam otimizar ainda mais a produção agrícola e promover práticas de cultivo mais sustentáveis e eficientes. [...] Pesquisador, Embrapa Instrumentação, São Carlos (SP), Brasil, ricardo.inamasu@embrapa.br RESUMO A integração da IA tem revolucionado a maneira como os dados agrícolas são coletados, analisados e interpretados, destacando-se particularmente o uso de imagens obtidas por veículos aéreos não tripulados (VANTs) e a análise avançada de séries temporais por meio da fusão de dados. O presente trabalho explora os avanços e as novas perspectivas trazidas pela aplicação de técnicas de inteligência [...] artificial (IA), com um enfoque especial no deep learning (DL), dentro do contexto da agricultura de precisão e digital. As tecnologias de DL, incluindo redes neurais convolucionais (CNNs), estão no epicentro dessa transformação. Essas redes profundas permitem não apenas a detecção eficiente de objetos e o monitoramento detalhado das condições agrícolas utilizando dados RGB e multi e hiperespectrais, mas também viabilizam a otimização dos processos agrícolas. Aqui discute-se como essas\", \"score\": 0.8512743}, {\"title\": \"Inteligência artificial no agro: conheça 6 aplicações - Agrishow Digital\", \"url\": \"https://digital.agrishow.com.br/artigos/inteligencia-artificial-no-agro-6-aplicacoes-que-voce-precisa-conhecer/\", \"content\": \"Porém, com o desenvolvimento da IA no agro, mais variáveis estão sendo incorporadas a esses modelos, incluindo imagens de satélite e outras informações que antes não podiam ser exploradas devido às limitações dos modelos convencionais.\\\\n\\\\n“_Com esses avanços, o índice de acerto dos modelos de previsão de safra vem aumentando rapidamente, e essa é uma tendência que deve continuar pelos próximos anos_”, afirma Jayme Barbedo. [...] Diante destas muitas aplicações, fica claro que o uso da inteligência artificial no agro tem o poder de impulsionar o agronegócio para além dos limites do que é possível atualmente.\\\\n\\\\nÀ medida que exploramos e implementamos as tendências futuras da IA, temos a oportunidade de criar um setor agrícola mais eficiente, preciso e sustentável.\\\\n\\\\n#### _Você quer saber se o futuro da IA já chegou ao agronegócio? Descubra__nessa entrevista__que fizemos com Silvia Masshurá._ [...] Diante do avanço da IA, as empresas do agro estão investindo alto – sozinhas ou em parceria com institutos de pesquisa – no desenvolvimento de soluções para automatizar processos e atividades diárias na fazenda, lavoura e demais segmentos.\\\\n\\\\nMas você sabe quais são as aplicações mais interessantes da IA no agro?\", \"score\": 0.82492816}]', name='busca_web', id='baeee75c-8060-4c57-bce7-5b760a45ba02', tool_call_id='call_Y8ouHFVSqSyWzetSl1I2JjZ0'),\n",
       "  AIMessage(content='A inteligência artificial (IA) tem um impacto significativo na agricultura, transformando a maneira como os dados agrícolas são coletados, analisados e interpretados. Aqui estão alguns dos principais impactos:\\n\\n1. **Agricultura de Precisão**: A IA permite a coleta e análise de dados detalhados através de imagens de satélite e veículos aéreos não tripulados (VANTs), melhorando a precisão no monitoramento das condições agrícolas e na detecção de objetos. Isso resulta em práticas de cultivo mais eficientes e sustentáveis.\\n\\n2. **Previsão de Safras**: Com o uso de IA, os modelos de previsão de safra estão se tornando mais precisos, incorporando mais variáveis e dados que antes não eram exploráveis devido às limitações dos modelos convencionais.\\n\\n3. **Automatização de Processos**: A IA está sendo usada para automatizar processos e atividades diárias na fazenda, lavoura e outros segmentos do agronegócio, aumentando a eficiência e reduzindo custos operacionais.\\n\\nPara mais detalhes, você pode conferir os seguintes artigos:\\n- [Inteligência artificial aplicada na agricultura de precisão e digital](https://ainfo.cnptia.embrapa.br/digital/bitstream/doc/1170729/1/P-Inteligencia-artificial-aplicada-na.pdf)\\n- [Inteligência artificial no agro: conheça 6 aplicações](https://digital.agrishow.com.br/artigos/inteligencia-artificial-no-agro-6-aplicacoes-que-voce-precisa-conhecer/)', additional_kwargs={'refusal': None}, response_metadata={'token_usage': {'completion_tokens': 322, 'prompt_tokens': 846, 'total_tokens': 1168, 'completion_tokens_details': {'accepted_prediction_tokens': 0, 'audio_tokens': 0, 'reasoning_tokens': 0, 'rejected_prediction_tokens': 0}, 'prompt_tokens_details': {'audio_tokens': 0, 'cached_tokens': 0}}, 'model_name': 'gpt-4o-2024-08-06', 'system_fingerprint': 'fp_07871e2ad8', 'id': 'chatcmpl-Bzo5bZtJCvUcvd8k33BWfoi4syeKv', 'service_tier': 'default', 'finish_reason': 'stop', 'logprobs': None}, id='run--40ad2a46-6fd0-4b28-8ffb-61d62e8a4bd4-0', usage_metadata={'input_tokens': 846, 'output_tokens': 322, 'total_tokens': 1168, 'input_token_details': {'audio': 0, 'cache_read': 0}, 'output_token_details': {'audio': 0, 'reasoning': 0}})]}"
      ]
     },
     "execution_count": 29,
     "metadata": {},
     "output_type": "execute_result"
    }
   ],
   "source": [
    "resultado"
   ]
  },
  {
   "cell_type": "code",
   "execution_count": 30,
   "metadata": {
    "colab": {
     "base_uri": "https://localhost:8080/"
    },
    "id": "k83JZEenYcNB",
    "outputId": "e6d516c9-14fa-4457-fb4c-b6419b93176f"
   },
   "outputs": [
    {
     "data": {
      "text/plain": [
       "AIMessage(content='A inteligência artificial (IA) tem um impacto significativo na agricultura, transformando a maneira como os dados agrícolas são coletados, analisados e interpretados. Aqui estão alguns dos principais impactos:\\n\\n1. **Agricultura de Precisão**: A IA permite a coleta e análise de dados detalhados através de imagens de satélite e veículos aéreos não tripulados (VANTs), melhorando a precisão no monitoramento das condições agrícolas e na detecção de objetos. Isso resulta em práticas de cultivo mais eficientes e sustentáveis.\\n\\n2. **Previsão de Safras**: Com o uso de IA, os modelos de previsão de safra estão se tornando mais precisos, incorporando mais variáveis e dados que antes não eram exploráveis devido às limitações dos modelos convencionais.\\n\\n3. **Automatização de Processos**: A IA está sendo usada para automatizar processos e atividades diárias na fazenda, lavoura e outros segmentos do agronegócio, aumentando a eficiência e reduzindo custos operacionais.\\n\\nPara mais detalhes, você pode conferir os seguintes artigos:\\n- [Inteligência artificial aplicada na agricultura de precisão e digital](https://ainfo.cnptia.embrapa.br/digital/bitstream/doc/1170729/1/P-Inteligencia-artificial-aplicada-na.pdf)\\n- [Inteligência artificial no agro: conheça 6 aplicações](https://digital.agrishow.com.br/artigos/inteligencia-artificial-no-agro-6-aplicacoes-que-voce-precisa-conhecer/)', additional_kwargs={'refusal': None}, response_metadata={'token_usage': {'completion_tokens': 322, 'prompt_tokens': 846, 'total_tokens': 1168, 'completion_tokens_details': {'accepted_prediction_tokens': 0, 'audio_tokens': 0, 'reasoning_tokens': 0, 'rejected_prediction_tokens': 0}, 'prompt_tokens_details': {'audio_tokens': 0, 'cached_tokens': 0}}, 'model_name': 'gpt-4o-2024-08-06', 'system_fingerprint': 'fp_07871e2ad8', 'id': 'chatcmpl-Bzo5bZtJCvUcvd8k33BWfoi4syeKv', 'service_tier': 'default', 'finish_reason': 'stop', 'logprobs': None}, id='run--40ad2a46-6fd0-4b28-8ffb-61d62e8a4bd4-0', usage_metadata={'input_tokens': 846, 'output_tokens': 322, 'total_tokens': 1168, 'input_token_details': {'audio': 0, 'cache_read': 0}, 'output_token_details': {'audio': 0, 'reasoning': 0}})"
      ]
     },
     "execution_count": 30,
     "metadata": {},
     "output_type": "execute_result"
    }
   ],
   "source": [
    "resultado['messages'][-1]"
   ]
  },
  {
   "cell_type": "markdown",
   "metadata": {
    "id": "0yIBcrZ2bl22"
   },
   "source": [
    "# Uma segunda ferramenta"
   ]
  },
  {
   "cell_type": "markdown",
   "metadata": {
    "id": "HM7wH8ACdjeP"
   },
   "source": [
    "https://python.langchain.com/docs/integrations/tools/"
   ]
  },
  {
   "cell_type": "code",
   "execution_count": 31,
   "metadata": {
    "id": "Qc6eXd1wcQYD"
   },
   "outputs": [],
   "source": [
    "from langchain.agents import load_tools"
   ]
  },
  {
   "cell_type": "code",
   "execution_count": 33,
   "metadata": {
    "id": "Q4FPf2qUg3E0"
   },
   "outputs": [],
   "source": [
    "tool_cientifica = load_tools([\"arxiv\"])"
   ]
  },
  {
   "cell_type": "code",
   "execution_count": 34,
   "metadata": {
    "id": "YEBkZLNGeMUa"
   },
   "outputs": [],
   "source": [
    "system_prompt2 = \"\"\" Atue como um assistente útil.\n",
    "    Use as ferramentas fornecidas para responder às perguntas do usuário.\n",
    "    - tool_cientifica: Retorna os resultados de uma busca no arxiv.\n",
    "    Use a tool_cientifica sempre que o usuário fizer uma pergunta sobre um tema específico e retorne o título dos artigos na resposta.\n",
    "\n",
    "\"\"\""
   ]
  },
  {
   "cell_type": "code",
   "execution_count": 35,
   "metadata": {
    "id": "ur5tLUAPdwv3"
   },
   "outputs": [],
   "source": [
    "agente_cientifico = create_react_agent(llm,tool_cientifica,prompt=system_prompt2)"
   ]
  },
  {
   "cell_type": "code",
   "execution_count": 36,
   "metadata": {
    "id": "DvXGCcMWl_JQ"
   },
   "outputs": [],
   "source": [
    "resultado= agente_cientifico.invoke({\"messages\": [(\"user\", \"AI impact in agriculture\")]})"
   ]
  },
  {
   "cell_type": "code",
   "execution_count": 37,
   "metadata": {
    "colab": {
     "base_uri": "https://localhost:8080/"
    },
    "id": "EM5hEl7rmd4Y",
    "outputId": "8698bcb5-d412-4803-d196-2cb7f89f20d9"
   },
   "outputs": [
    {
     "data": {
      "text/plain": [
       "{'messages': [HumanMessage(content='AI impact in agriculture', additional_kwargs={}, response_metadata={}, id='c49f09a2-3720-4dea-9a12-28762fc18981'),\n",
       "  AIMessage(content='', additional_kwargs={'tool_calls': [{'id': 'call_2OLWMyQjHOd0WcPZYKEC69Jt', 'function': {'arguments': '{\"query\":\"AI impact in agriculture\"}', 'name': 'arxiv'}, 'type': 'function'}], 'refusal': None}, response_metadata={'token_usage': {'completion_tokens': 17, 'prompt_tokens': 167, 'total_tokens': 184, 'completion_tokens_details': {'accepted_prediction_tokens': 0, 'audio_tokens': 0, 'reasoning_tokens': 0, 'rejected_prediction_tokens': 0}, 'prompt_tokens_details': {'audio_tokens': 0, 'cached_tokens': 0}}, 'model_name': 'gpt-4o-2024-08-06', 'system_fingerprint': 'fp_07871e2ad8', 'id': 'chatcmpl-BzoNYFVd0872JtjjoeNYx555aVxQd', 'service_tier': 'default', 'finish_reason': 'tool_calls', 'logprobs': None}, id='run--3f41736a-70e2-4969-b618-2335a53e0a92-0', tool_calls=[{'name': 'arxiv', 'args': {'query': 'AI impact in agriculture'}, 'id': 'call_2OLWMyQjHOd0WcPZYKEC69Jt', 'type': 'tool_call'}], usage_metadata={'input_tokens': 167, 'output_tokens': 17, 'total_tokens': 184, 'input_token_details': {'audio': 0, 'cache_read': 0}, 'output_token_details': {'audio': 0, 'reasoning': 0}}),\n",
       "  ToolMessage(content='Published: 2024-01-03\\nTitle: Harnessing Artificial Intelligence for Sustainable Agricultural Development in Africa: Opportunities, Challenges, and Impact\\nAuthors: Kinyua Gikunda\\nSummary: This paper explores the transformative potential of artificial intelligence\\n(AI) in the context of sustainable agricultural development across diverse\\nregions in Africa. Delving into opportunities, challenges, and impact, the\\nstudy navigates through the dynamic landscape of AI applications in\\nagriculture. Opportunities such as precision farming, crop monitoring, and\\nclimate-resilient practices are examined, alongside challenges related to\\ntechnological infrastructure, data accessibility, and skill gaps. The article\\nanalyzes the impact of AI on smallholder farmers, supply chains, and inclusive\\ngrowth. Ethical considerations and policy implications are also discussed,\\noffering insights into responsible AI integration. By providing a nuanced\\nunderstanding, this paper contributes to the ongoing discourse on leveraging AI\\nfor fostering sustainability in African agriculture.\\n\\nPublished: 2024-11-12\\nTitle: Dynamic Evolutionary Game Analysis of How Fintech in Banking Mitigates Risks in Agricultural Supply Chain Finance\\nAuthors: Qiang Wan, Jun Cui\\nSummary: This paper explores the impact of banking fintech on reducing financial risks\\nin the agricultural supply chain, focusing on the secondary allocation of\\ncommercial credit. The study constructs a three-player evolutionary game model\\ninvolving banks, core enterprises, and SMEs to analyze how fintech innovations,\\nsuch as big data credit assessment, blockchain, and AI-driven risk evaluation,\\ninfluence financial risks and access to credit. The findings reveal that\\nbanking fintech reduces financing costs and mitigates financial risks by\\nimproving transaction reliability, enhancing risk identification, and\\nminimizing information asymmetry. By optimizing cooperation between banks, core\\nenterprises, and SMEs, fintech solutions enhance the stability of the\\nagricultural supply chain, contributing to rural revitalization goals and\\nsustainable agricultural development. The study provides new theoretical\\ninsights and practical recommendations for improving agricultural finance\\nsystems and reducing financial risks.\\n  Keywords: banking fintech, agricultural supply chain, financial risk,\\ncommercial credit, SMEs, evolutionary game model, big data, blockchain,\\nAI-driven risk evaluation.\\n\\nPublished: 2024-11-27\\nTitle: Enabling Adoption of Regenerative Agriculture through Soil Carbon Copilots\\nAuthors: Margaret Capetz, Swati Sharma, Rafael Padilha, Peder Olsen, Jessica Wolk, Emre Kiciman, Ranveer Chandra\\nSummary: Mitigating climate change requires transforming agriculture to minimize\\nenviron mental impact and build climate resilience. Regenerative agricultural\\npractices enhance soil organic carbon (SOC) levels, thus improving soil health\\nand sequestering carbon. A challenge to increasing regenerative agriculture\\npractices is cheaply measuring SOC over time and understanding how SOC is\\naffected by regenerative agricultural practices and other environmental factors\\nand farm management practices. To address this challenge, we introduce an\\nAI-driven Soil Organic Carbon Copilot that automates the ingestion of complex\\nmulti-resolution, multi-modal data to provide large-scale insights into soil\\nhealth and regenerative practices. Our data includes extreme weather event data\\n(e.g., drought and wildfire incidents), farm management data (e.g., cropland\\ninformation and tillage predictions), and SOC predictions. We find that\\nintegrating public data and specialized models enables large-scale, localized\\nanalysis for sustainable agriculture. In comparisons of agricultural practices\\nacross California counties, we find evidence that diverse agricultural activity\\nmay mitigate the negative effects of tillage; and that while extreme weather\\nconditions heavily affect SOC, composting may mitigate SOC loss. Finally,\\nimplementing role-specific perso', name='arxiv', id='87c591db-2e3d-4ec1-9b1f-0022aa7316d0', tool_call_id='call_2OLWMyQjHOd0WcPZYKEC69Jt'),\n",
       "  AIMessage(content='Aqui estão alguns artigos recentes sobre o impacto da inteligência artificial na agricultura:\\n\\n1. **Harnessing Artificial Intelligence for Sustainable Agricultural Development in Africa: Opportunities, Challenges, and Impact**  \\n   Este artigo explora o potencial transformador da inteligência artificial no desenvolvimento agrícola sustentável na África, abordando oportunidades como agricultura de precisão e monitoramento de culturas, além de desafios relacionados à infraestrutura tecnológica e acessibilidade de dados.\\n\\n2. **Dynamic Evolutionary Game Analysis of How Fintech in Banking Mitigates Risks in Agricultural Supply Chain Finance**  \\n   Este estudo analisa como as inovações fintech, incluindo a avaliação de risco impulsionada por IA, reduzem os riscos financeiros na cadeia de suprimentos agrícolas, melhorando a confiabilidade das transações e a identificação de riscos.\\n\\n3. **Enabling Adoption of Regenerative Agriculture through Soil Carbon Copilots**  \\n   Este artigo introduz um copiloto de carbono do solo impulsionado por IA que automatiza a análise de dados complexos para fornecer insights sobre práticas agrícolas regenerativas e saúde do solo, ajudando a mitigar as mudanças climáticas.\\n\\nEsses artigos destacam como a IA está sendo utilizada para promover práticas agrícolas sustentáveis, melhorar a gestão de riscos financeiros e facilitar a adoção de práticas regenerativas.', additional_kwargs={'refusal': None}, response_metadata={'token_usage': {'completion_tokens': 256, 'prompt_tokens': 942, 'total_tokens': 1198, 'completion_tokens_details': {'accepted_prediction_tokens': 0, 'audio_tokens': 0, 'reasoning_tokens': 0, 'rejected_prediction_tokens': 0}, 'prompt_tokens_details': {'audio_tokens': 0, 'cached_tokens': 0}}, 'model_name': 'gpt-4o-2024-08-06', 'system_fingerprint': 'fp_07871e2ad8', 'id': 'chatcmpl-BzoNa1QMJYK4ej2w0j2NSeipMqJYz', 'service_tier': 'default', 'finish_reason': 'stop', 'logprobs': None}, id='run--eb197bdd-c8ea-4128-a59d-7c146d955880-0', usage_metadata={'input_tokens': 942, 'output_tokens': 256, 'total_tokens': 1198, 'input_token_details': {'audio': 0, 'cache_read': 0}, 'output_token_details': {'audio': 0, 'reasoning': 0}})]}"
      ]
     },
     "execution_count": 37,
     "metadata": {},
     "output_type": "execute_result"
    }
   ],
   "source": [
    "resultado"
   ]
  },
  {
   "cell_type": "code",
   "execution_count": 38,
   "metadata": {
    "colab": {
     "base_uri": "https://localhost:8080/"
    },
    "id": "xaSmGa8pmkUg",
    "outputId": "6308da06-3a66-41a6-b590-cb442f4e4ce4"
   },
   "outputs": [
    {
     "data": {
      "text/plain": [
       "AIMessage(content='Aqui estão alguns artigos recentes sobre o impacto da inteligência artificial na agricultura:\\n\\n1. **Harnessing Artificial Intelligence for Sustainable Agricultural Development in Africa: Opportunities, Challenges, and Impact**  \\n   Este artigo explora o potencial transformador da inteligência artificial no desenvolvimento agrícola sustentável na África, abordando oportunidades como agricultura de precisão e monitoramento de culturas, além de desafios relacionados à infraestrutura tecnológica e acessibilidade de dados.\\n\\n2. **Dynamic Evolutionary Game Analysis of How Fintech in Banking Mitigates Risks in Agricultural Supply Chain Finance**  \\n   Este estudo analisa como as inovações fintech, incluindo a avaliação de risco impulsionada por IA, reduzem os riscos financeiros na cadeia de suprimentos agrícolas, melhorando a confiabilidade das transações e a identificação de riscos.\\n\\n3. **Enabling Adoption of Regenerative Agriculture through Soil Carbon Copilots**  \\n   Este artigo introduz um copiloto de carbono do solo impulsionado por IA que automatiza a análise de dados complexos para fornecer insights sobre práticas agrícolas regenerativas e saúde do solo, ajudando a mitigar as mudanças climáticas.\\n\\nEsses artigos destacam como a IA está sendo utilizada para promover práticas agrícolas sustentáveis, melhorar a gestão de riscos financeiros e facilitar a adoção de práticas regenerativas.', additional_kwargs={'refusal': None}, response_metadata={'token_usage': {'completion_tokens': 256, 'prompt_tokens': 942, 'total_tokens': 1198, 'completion_tokens_details': {'accepted_prediction_tokens': 0, 'audio_tokens': 0, 'reasoning_tokens': 0, 'rejected_prediction_tokens': 0}, 'prompt_tokens_details': {'audio_tokens': 0, 'cached_tokens': 0}}, 'model_name': 'gpt-4o-2024-08-06', 'system_fingerprint': 'fp_07871e2ad8', 'id': 'chatcmpl-BzoNa1QMJYK4ej2w0j2NSeipMqJYz', 'service_tier': 'default', 'finish_reason': 'stop', 'logprobs': None}, id='run--eb197bdd-c8ea-4128-a59d-7c146d955880-0', usage_metadata={'input_tokens': 942, 'output_tokens': 256, 'total_tokens': 1198, 'input_token_details': {'audio': 0, 'cache_read': 0}, 'output_token_details': {'audio': 0, 'reasoning': 0}})"
      ]
     },
     "execution_count": 38,
     "metadata": {},
     "output_type": "execute_result"
    }
   ],
   "source": [
    "resultado['messages'][-1]"
   ]
  },
  {
   "cell_type": "markdown",
   "metadata": {
    "id": "JBp4065gnUlK"
   },
   "source": [
    "# Agentes como funções"
   ]
  },
  {
   "cell_type": "code",
   "execution_count": 39,
   "metadata": {
    "id": "PaT-ykf6oS4F"
   },
   "outputs": [],
   "source": [
    "from typing import TypedDict"
   ]
  },
  {
   "cell_type": "code",
   "execution_count": 40,
   "metadata": {
    "id": "s65yHlcgoJc4"
   },
   "outputs": [],
   "source": [
    "# --- Define um estado do agente ---\n",
    "class AgentState(TypedDict):\n",
    "    user_query: str\n",
    "    web_answer: str\n",
    "    scientific_answer: str\n",
    "    final_answer: str"
   ]
  },
  {
   "cell_type": "code",
   "execution_count": 41,
   "metadata": {
    "id": "yds6_XVtnEz0"
   },
   "outputs": [],
   "source": [
    "def funcao_agente_web(state: AgentState) -> str:\n",
    "  \"\"\"\n",
    "  Função que executa um agente no estilo ReAct que realiza uma busca na web\n",
    "  por um termo específico.\n",
    "\n",
    "  Esta função pega o estado atual do agente (que contém a pergunta do usuário) e\n",
    "  cria um agente usando a OpenAI e a ferramenta tavily e retorna a resposta do agente.\n",
    "\n",
    "  Args:\n",
    "    state: (AgentState): Um dicionário contendo a pergunta do usuário e a resposta do agente.\n",
    "\n",
    "  Returns:\n",
    "    str: A resposta do agente.\n",
    "\n",
    "  \"\"\"\n",
    "  system_prompt = \"\"\" Atue como um assistente útil.\n",
    "    Use as ferramentas fornecidas para responder às perguntas do usuário.\n",
    "    - busca_web: Retorna os resultados de uma busca na web.\n",
    "    Use a busca_web sempre que o usuário fizer uma pergunta sobre um tema específico e retorne o link dos artigos na resposta.\n",
    "\n",
    "  \"\"\"\n",
    "  agente_web = create_react_agent(model=llm, tools=tools, prompt=system_prompt)\n",
    "  resultado= agente_web.invoke({\"messages\": [(\"user\", state[\"user_query\"])]})\n",
    "  resposta_final = resultado['messages'][-1].content\n",
    "  return {\"web_answer\": resposta_final}\n",
    "\n"
   ]
  },
  {
   "cell_type": "code",
   "execution_count": null,
   "metadata": {
    "id": "1c2695d1"
   },
   "outputs": [],
   "source": [
    "def funcao_agente_cientifico(state: AgentState) -> dict:\n",
    "    \"\"\"\n",
    "    Função que executa um agente no estilo ReAct que realiza uma busca no arxiv\n",
    "    por um termo específico.\n",
    "\n",
    "    Esta função pega o estado atual do agente (que contém a pergunta do usuário) e\n",
    "    cria um agente usando o OpenAI e a ferramenta arxiv e retorna a resposta do agente.\n",
    "\n",
    "    Args:\n",
    "        state: (AgentState): Um dicionário contendo a pergunta do usuário e a resposta do agente.\n",
    "\n",
    "    Returns:\n",
    "        str: A resposta do agente.\n",
    "\n",
    "    \"\"\"\n",
    "    system_prompt = \"\"\" Atue como um assistente útil.\n",
    "    Use as ferramentas fornecidas para responder às perguntas do usuário.\n",
    "    - tool_cientifica: Retorna os resultados de uma busca no arxiv.\n",
    "    Use a tool_cientifica sempre que o usuário fizer uma pergunta sobre um tema específico e retorne o título dos artigos na resposta.\n",
    "\n",
    "    \"\"\"\n",
    "    agente_cientifico = create_react_agent(llm, tool_cientifica, prompt=system_prompt)\n",
    "    resultado = agente_cientifico.invoke({\"messages\": [(\"user\", state[\"user_query\"])]})\n",
    "    resposta_final = resultado['messages'][-1].content\n",
    "    return {\"scientific_answer\": resposta_final}"
   ]
  },
  {
   "cell_type": "markdown",
   "metadata": {
    "id": "KC4AQYIwsEkR"
   },
   "source": [
    "# Definindo um Grafo"
   ]
  },
  {
   "cell_type": "code",
   "execution_count": 43,
   "metadata": {
    "id": "solMe7G2sTQi"
   },
   "outputs": [],
   "source": [
    "from langgraph.graph import START, StateGraph, END"
   ]
  },
  {
   "cell_type": "code",
   "execution_count": 44,
   "metadata": {
    "id": "SwvNUP9usGiN"
   },
   "outputs": [],
   "source": [
    "workflow = StateGraph(AgentState)"
   ]
  },
  {
   "cell_type": "code",
   "execution_count": 45,
   "metadata": {
    "id": "rx3zHvafsUdj"
   },
   "outputs": [],
   "source": [
    "workflow.add_node(\"agente_web\", funcao_agente_web)\n",
    "\n",
    "workflow.add_edge(START, \"agente_web\")\n",
    "workflow.add_edge(\"agente_web\", END)\n",
    "\n",
    "app = workflow.compile()"
   ]
  },
  {
   "cell_type": "code",
   "execution_count": 46,
   "metadata": {
    "colab": {
     "base_uri": "https://localhost:8080/",
     "height": 251
    },
    "id": "vq2qR5x-vp3j",
    "outputId": "ad862b66-16f7-45c6-c718-0decc5191cdc"
   },
   "outputs": [
    {
     "data": {
      "image/png": "[encoded data removed]",
      "text/plain": [
       "<IPython.core.display.Image object>"
      ]
     },
     "execution_count": 46,
     "metadata": {},
     "output_type": "execute_result"
    }
   ],
   "source": [
    "from IPython.display import Image, display\n",
    "Image(app.get_graph().draw_mermaid_png())"
   ]
  },
  {
   "cell_type": "code",
   "execution_count": 47,
   "metadata": {
    "colab": {
     "base_uri": "https://localhost:8080/"
    },
    "id": "FGEK-AV_vuUY",
    "outputId": "c5289b89-e16a-4664-a011-07986382f89c"
   },
   "outputs": [
    {
     "name": "stdout",
     "output_type": "stream",
     "text": [
      "A inteligência artificial (IA) tem um impacto significativo na medicina, oferecendo benefícios como a personalização e eficiência nos cuidados de saúde, armazenamento e processamento preciso de dados, e acesso facilitado a informações cruciais para os profissionais de saúde. A IA permite a digitalização e organização eficiente de arquivos médicos, melhorando a proteção de informações sensíveis dos pacientes. Além disso, tecnologias baseadas em IA podem filtrar e acessar dados relevantes conforme necessário, auxiliando na prática médica sem comprometer a autonomia e responsabilidade profissional. \n",
      "\n",
      "Para mais detalhes, você pode conferir os seguintes artigos:\n",
      "\n",
      "1. [Inteligência artificial na medicina: impactos e desafios](https://periodicorease.pro.br/rease/article/download/18024/10360/44833)\n",
      "2. [Inteligência Artificial na Medicina: Histórico, Evolução e Aplicações](https://medium.com/intelig%C3%AAncia-artificial-em-medicina/a-intelig%C3%AAncia-artificial-na-medicina-hist%C3%B3rico-evolu%C3%A7%C3%A3o-e-aplica%C3%A7%C3%B5es-7167f9b0a32c)\n"
     ]
    }
   ],
   "source": [
    "resultado = app.invoke({\"user_query\": \"Qual o impacto da IA na medicina?\"})\n",
    "print(resultado[\"web_answer\"])"
   ]
  },
  {
   "cell_type": "markdown",
   "metadata": {
    "id": "0IgMHiY5xfSk"
   },
   "source": [
    "# Definindo um supervisor"
   ]
  },
  {
   "cell_type": "code",
   "execution_count": 48,
   "metadata": {
    "id": "xrL5jlyqv8Qp"
   },
   "outputs": [],
   "source": [
    "def supervisor_node(state: AgentState) -> dict:\n",
    "    \"\"\"\n",
    "    Combina os resultados da web e de agentes científicos e formata a resposta final.\n",
    "\n",
    "    Args:\n",
    "        state (AgentState): O estado atual do agente, contendo web_answer e scientific_answer.\n",
    "    Returns:\n",
    "        dict: Um dicionário contendo a resposta final combinada e formatada.\n",
    "    \"\"\"\n",
    "    web_results = state.get(\"web_answer\", \"Não foi realizada pesquisa na Web.\")\n",
    "    scientific_results = state.get(\"scientific_answer\", \"Não foi realizada pesquisa por artigos científicos.\")\n",
    "\n",
    "    final_answer = \"## Resultados de pesquisa combinados\\n\\n\"\n",
    "    final_answer += \"### Resultados da pesquisa na Web\\n\"\n",
    "    final_answer += web_results\n",
    "    final_answer += \"\\n\\n### Resultados de Artigos Científicos\\n\"\n",
    "    final_answer += scientific_results\n",
    "\n",
    "    return {\"final_answer\": final_answer}"
   ]
  },
  {
   "cell_type": "code",
   "execution_count": 49,
   "metadata": {
    "id": "EoBI_LrM7oJA"
   },
   "outputs": [],
   "source": [
    "workflow = StateGraph(AgentState)\n",
    "\n",
    "workflow.add_node(\"web_search\", funcao_agente_web)\n",
    "workflow.add_node(\"scientific_search\", funcao_agente_cientifico)\n",
    "workflow.add_node(\"supervisor\", supervisor_node)\n",
    "\n",
    "workflow.add_edge(START, \"web_search\")\n",
    "workflow.add_edge(\"web_search\", \"scientific_search\")\n",
    "workflow.add_edge(\"scientific_search\", \"supervisor\")\n",
    "workflow.add_edge(\"supervisor\", END)\n",
    "\n",
    "app = workflow.compile()"
   ]
  },
  {
   "cell_type": "code",
   "execution_count": 50,
   "metadata": {
    "colab": {
     "base_uri": "https://localhost:8080/",
     "height": 449
    },
    "id": "jWs_s0Yv7sUr",
    "outputId": "a85736b6-443f-4e80-f7b7-cf10ce38bcd3"
   },
   "outputs": [
    {
     "data": {
      "image/png": "[encoded data removed]",
      "text/plain": [
       "<IPython.core.display.Image object>"
      ]
     },
     "execution_count": 50,
     "metadata": {},
     "output_type": "execute_result"
    }
   ],
   "source": [
    "Image(app.get_graph().draw_mermaid_png())"
   ]
  },
  {
   "cell_type": "code",
   "execution_count": 51,
   "metadata": {
    "colab": {
     "base_uri": "https://localhost:8080/"
    },
    "id": "A6Ce_yJG8BIS",
    "outputId": "9ea944ef-77b8-4dbb-e207-2d2a23770cec"
   },
   "outputs": [
    {
     "name": "stdout",
     "output_type": "stream",
     "text": [
      "Resultado completo:\n",
      "{'user_query': 'Qual o impacto da IA na medicina?', 'web_answer': 'A inteligência artificial (IA) tem um impacto significativo na medicina, especialmente no diagnóstico médico e no tratamento de doenças. Aqui estão alguns dos principais pontos:\\n\\n1. **Aumento da Precisão Diagnóstica**: A IA pode fornecer análises detalhadas e identificar padrões complexos que podem ser difíceis de detectar por médicos humanos, aumentando assim a precisão dos diagnósticos. [Leia mais](https://medicinadireta.com.br/blog/inteligencia-artificial-no-diagnostico-medico/).\\n\\n2. **Eficiência e Velocidade**: A IA ajuda a acelerar o processo de definição de doenças, permitindo uma resposta mais rápida ao tratamento e reduzindo o tempo de espera para o início dos cuidados.\\n\\n3. **Detecção de Enfermidades**: A IA pode contribuir para a detecção de doenças, como as tropicais, de forma mais rápida e precisa, ajudando os profissionais de saúde a tomarem decisões eficazes. [Saiba mais](https://bvsms.saude.gov.br/revolucao-da-inteligencia-artificial-uso-na-saude-traz-novas-possibilidades/).\\n\\n4. **Desenvolvimento de Medicamentos e Vacinas**: A IA pode agilizar o processo de descoberta de novos medicamentos e vacinas, analisando grandes quantidades de dados para identificar potenciais candidatos a medicamentos.\\n\\nEsses são apenas alguns exemplos de como a IA está transformando a medicina, trazendo novas possibilidades e melhorando a eficácia dos tratamentos.', 'scientific_answer': 'Parece que não encontrei artigos diretamente relacionados ao impacto da IA na medicina na busca realizada. Se precisar de informações específicas ou de outra busca, por favor, me avise!', 'final_answer': '## Resultados de pesquisa combinados\\n\\n### Resultados da pesquisa na Web\\nA inteligência artificial (IA) tem um impacto significativo na medicina, especialmente no diagnóstico médico e no tratamento de doenças. Aqui estão alguns dos principais pontos:\\n\\n1. **Aumento da Precisão Diagnóstica**: A IA pode fornecer análises detalhadas e identificar padrões complexos que podem ser difíceis de detectar por médicos humanos, aumentando assim a precisão dos diagnósticos. [Leia mais](https://medicinadireta.com.br/blog/inteligencia-artificial-no-diagnostico-medico/).\\n\\n2. **Eficiência e Velocidade**: A IA ajuda a acelerar o processo de definição de doenças, permitindo uma resposta mais rápida ao tratamento e reduzindo o tempo de espera para o início dos cuidados.\\n\\n3. **Detecção de Enfermidades**: A IA pode contribuir para a detecção de doenças, como as tropicais, de forma mais rápida e precisa, ajudando os profissionais de saúde a tomarem decisões eficazes. [Saiba mais](https://bvsms.saude.gov.br/revolucao-da-inteligencia-artificial-uso-na-saude-traz-novas-possibilidades/).\\n\\n4. **Desenvolvimento de Medicamentos e Vacinas**: A IA pode agilizar o processo de descoberta de novos medicamentos e vacinas, analisando grandes quantidades de dados para identificar potenciais candidatos a medicamentos.\\n\\nEsses são apenas alguns exemplos de como a IA está transformando a medicina, trazendo novas possibilidades e melhorando a eficácia dos tratamentos.\\n\\n### Resultados de Artigos Científicos\\nParece que não encontrei artigos diretamente relacionados ao impacto da IA na medicina na busca realizada. Se precisar de informações específicas ou de outra busca, por favor, me avise!'}\n",
      "\n",
      "Resposta final:\n",
      "## Resultados de pesquisa combinados\n",
      "\n",
      "### Resultados da pesquisa na Web\n",
      "A inteligência artificial (IA) tem um impacto significativo na medicina, especialmente no diagnóstico médico e no tratamento de doenças. Aqui estão alguns dos principais pontos:\n",
      "\n",
      "1. **Aumento da Precisão Diagnóstica**: A IA pode fornecer análises detalhadas e identificar padrões complexos que podem ser difíceis de detectar por médicos humanos, aumentando assim a precisão dos diagnósticos. [Leia mais](https://medicinadireta.com.br/blog/inteligencia-artificial-no-diagnostico-medico/).\n",
      "\n",
      "2. **Eficiência e Velocidade**: A IA ajuda a acelerar o processo de definição de doenças, permitindo uma resposta mais rápida ao tratamento e reduzindo o tempo de espera para o início dos cuidados.\n",
      "\n",
      "3. **Detecção de Enfermidades**: A IA pode contribuir para a detecção de doenças, como as tropicais, de forma mais rápida e precisa, ajudando os profissionais de saúde a tomarem decisões eficazes. [Saiba mais](https://bvsms.saude.gov.br/revolucao-da-inteligencia-artificial-uso-na-saude-traz-novas-possibilidades/).\n",
      "\n",
      "4. **Desenvolvimento de Medicamentos e Vacinas**: A IA pode agilizar o processo de descoberta de novos medicamentos e vacinas, analisando grandes quantidades de dados para identificar potenciais candidatos a medicamentos.\n",
      "\n",
      "Esses são apenas alguns exemplos de como a IA está transformando a medicina, trazendo novas possibilidades e melhorando a eficácia dos tratamentos.\n",
      "\n",
      "### Resultados de Artigos Científicos\n",
      "Parece que não encontrei artigos diretamente relacionados ao impacto da IA na medicina na busca realizada. Se precisar de informações específicas ou de outra busca, por favor, me avise!\n"
     ]
    }
   ],
   "source": [
    "resultado = app.invoke({\"user_query\": \"Qual o impacto da IA na medicina?\"})\n",
    "print(\"Resultado completo:\")\n",
    "print(resultado)\n",
    "print(\"\\nResposta final:\")\n",
    "print(resultado[\"final_answer\"])"
   ]
  },
  {
   "cell_type": "code",
   "execution_count": null,
   "metadata": {
    "id": "aeb904f4"
   },
   "outputs": [],
   "source": [
    "def router_agent(state: AgentState) -> str:\n",
    "    \"\"\"\n",
    "    Agente roteador que decide qual ferramenta usar (busca web ou busca científica)\n",
    "    com base na pergunta do usuário, usando um agente ReAct interno.\n",
    "    \"\"\"\n",
    "    # Define o prompt para o agente ReAct interno\n",
    "    router_prompt = \"\"\"\n",
    "    Você é um agente roteador. Sua tarefa é decidir qual é o agente mais apropriado\n",
    "    para responder à pergunta do usuário.\n",
    "\n",
    "    Pergunta do usuário: {user_query}\n",
    "\n",
    "    Você pode escolher entre as seguintes opções:\n",
    "    - web_search: Use esta opção se a pergunta do usuário parecer exigir uma busca geral na web.\n",
    "    - scientific_search: Use esta opção se a pergunta do usuário parecer exigir a busca por artigos científicos (por exemplo, no arXiv).\n",
    "\n",
    "    Responda APENAS com o nome da opção escolhida (web_search ou scientific_search).\n",
    "    \"\"\"\n",
    "\n",
    "    # Cria um agente ReAct interno para roteamento\n",
    "\n",
    "    router_agent_instance = create_react_agent(\n",
    "        model=llm,\n",
    "        tools=[], # Nenhum tool externa necessária para o roteador\n",
    "        prompt=router_prompt\n",
    "    )\n",
    "\n",
    "    # Invoca o agente ReAct interno com a consulta do usuário\n",
    "    # Passa a user_query em um dicionário que corresponda à variável de entrada do router_prompt\n",
    "    response = router_agent_instance.invoke({\"messages\": [(\"user\", state[\"user_query\"])]})\n",
    "\n",
    "    # Analisa a resposta para obter a decisão\n",
    "    # A resposta final do agente ReAct deve ser a opção escolhida\n",
    "    decision = response['messages'][-1].content.strip().lower()\n",
    "\n",
    "\n",
    "    if \"web_search\" in decision:\n",
    "        return {\"router_decision\": \"web_search\"}\n",
    "    elif \"scientific_search\" in decision:\n",
    "        return {\"router_decision\": \"scientific_search\"}\n",
    "    else:\n",
    "        # Padrão para busca na web se a decisão não estiver clara\n",
    "        return {\"router_decision\": \"web_search\"}"
   ]
  },
  {
   "cell_type": "code",
   "execution_count": 53,
   "metadata": {
    "id": "SYTnvM199aWR"
   },
   "outputs": [],
   "source": [
    "workflow = StateGraph(AgentState)\n",
    "\n",
    "workflow.add_node(\"router\", router_agent)\n",
    "workflow.add_node(\"web_search\", funcao_agente_web)\n",
    "workflow.add_node(\"scientific_search\", funcao_agente_cientifico)\n",
    "workflow.add_node(\"supervisor\", supervisor_node)\n",
    "\n",
    "workflow.add_edge(START, \"router\")\n",
    "\n",
    "workflow.add_conditional_edges(\n",
    "    \"router\",\n",
    "    lambda state: state['router_decision'],\n",
    "    {\n",
    "        \"web_search\": \"web_search\",\n",
    "        \"scientific_search\": \"scientific_search\"\n",
    "    }\n",
    ")\n",
    "\n",
    "workflow.add_edge(\"web_search\", \"supervisor\")\n",
    "workflow.add_edge(\"scientific_search\", \"supervisor\")\n",
    "workflow.add_edge(\"supervisor\", END)\n",
    "\n",
    "app = workflow.compile()"
   ]
  },
  {
   "cell_type": "code",
   "execution_count": 54,
   "metadata": {
    "colab": {
     "base_uri": "https://localhost:8080/",
     "height": 449
    },
    "id": "an43PxQt91CK",
    "outputId": "2fdd5a51-0469-46c5-a109-729453f9b013"
   },
   "outputs": [
    {
     "data": {
      "image/png": "[encoded data removed]",
      "text/plain": [
       "<IPython.core.display.Image object>"
      ]
     },
     "execution_count": 54,
     "metadata": {},
     "output_type": "execute_result"
    }
   ],
   "source": [
    "Image(app.get_graph().draw_mermaid_png())"
   ]
  },
  {
   "cell_type": "code",
   "execution_count": 55,
   "metadata": {
    "colab": {
     "base_uri": "https://localhost:8080/"
    },
    "id": "HjOyNfXS91e-",
    "outputId": "682d61a9-a1b4-4815-faab-ecbdfe2f67b7"
   },
   "outputs": [
    {
     "name": "stdout",
     "output_type": "stream",
     "text": [
      "Resultado completo:\n",
      "{'user_query': 'Qual o impacto da IA na medicina? Use apenas fontes da Web', 'web_answer': 'A inteligência artificial (IA) tem um impacto significativo na medicina, especialmente no diagnóstico médico e no tratamento de doenças. Aqui estão alguns artigos que discutem esse impacto:\\n\\n1. [Impacto Da Inteligência Artificial No Diagnóstico Médico](https://medicinadireta.com.br/blog/inteligencia-artificial-no-diagnostico-medico/): Este artigo destaca como a IA aumenta a precisão diagnóstica, fornecendo análises detalhadas e identificando padrões complexos que podem ser difíceis de detectar por médicos humanos. A IA também acelera o processo de definição de doenças, permitindo respostas mais rápidas ao tratamento.\\n\\n2. [Revolução da inteligência artificial: uso na saúde traz novas possibilidades](https://bvsms.saude.gov.br/revolucao-da-inteligencia-artificial-uso-na-saude-traz-novas-possibilidades/): Este artigo discute como a IA pode contribuir para a detecção de enfermidades, especialmente doenças tropicais como dengue e malária, ajudando profissionais de saúde a tomarem decisões mais eficazes. A IA também pode agilizar a descoberta de novos medicamentos e o desenvolvimento de vacinas, analisando grandes quantidades de dados rapidamente.\\n\\nEsses artigos mostram que a IA está transformando a medicina ao melhorar a precisão diagnóstica, acelerar tratamentos e contribuir para a pesquisa de novos medicamentos e vacinas.', 'final_answer': '## Resultados de pesquisa combinados\\n\\n### Resultados da pesquisa na Web\\nA inteligência artificial (IA) tem um impacto significativo na medicina, especialmente no diagnóstico médico e no tratamento de doenças. Aqui estão alguns artigos que discutem esse impacto:\\n\\n1. [Impacto Da Inteligência Artificial No Diagnóstico Médico](https://medicinadireta.com.br/blog/inteligencia-artificial-no-diagnostico-medico/): Este artigo destaca como a IA aumenta a precisão diagnóstica, fornecendo análises detalhadas e identificando padrões complexos que podem ser difíceis de detectar por médicos humanos. A IA também acelera o processo de definição de doenças, permitindo respostas mais rápidas ao tratamento.\\n\\n2. [Revolução da inteligência artificial: uso na saúde traz novas possibilidades](https://bvsms.saude.gov.br/revolucao-da-inteligencia-artificial-uso-na-saude-traz-novas-possibilidades/): Este artigo discute como a IA pode contribuir para a detecção de enfermidades, especialmente doenças tropicais como dengue e malária, ajudando profissionais de saúde a tomarem decisões mais eficazes. A IA também pode agilizar a descoberta de novos medicamentos e o desenvolvimento de vacinas, analisando grandes quantidades de dados rapidamente.\\n\\nEsses artigos mostram que a IA está transformando a medicina ao melhorar a precisão diagnóstica, acelerar tratamentos e contribuir para a pesquisa de novos medicamentos e vacinas.\\n\\n### Resultados de Artigos Científicos\\nNão foi realizada pesquisa por artigos científicos.'}\n",
      "\n",
      "Resposta final:\n",
      "## Resultados de pesquisa combinados\n",
      "\n",
      "### Resultados da pesquisa na Web\n",
      "A inteligência artificial (IA) tem um impacto significativo na medicina, especialmente no diagnóstico médico e no tratamento de doenças. Aqui estão alguns artigos que discutem esse impacto:\n",
      "\n",
      "1. [Impacto Da Inteligência Artificial No Diagnóstico Médico](https://medicinadireta.com.br/blog/inteligencia-artificial-no-diagnostico-medico/): Este artigo destaca como a IA aumenta a precisão diagnóstica, fornecendo análises detalhadas e identificando padrões complexos que podem ser difíceis de detectar por médicos humanos. A IA também acelera o processo de definição de doenças, permitindo respostas mais rápidas ao tratamento.\n",
      "\n",
      "2. [Revolução da inteligência artificial: uso na saúde traz novas possibilidades](https://bvsms.saude.gov.br/revolucao-da-inteligencia-artificial-uso-na-saude-traz-novas-possibilidades/): Este artigo discute como a IA pode contribuir para a detecção de enfermidades, especialmente doenças tropicais como dengue e malária, ajudando profissionais de saúde a tomarem decisões mais eficazes. A IA também pode agilizar a descoberta de novos medicamentos e o desenvolvimento de vacinas, analisando grandes quantidades de dados rapidamente.\n",
      "\n",
      "Esses artigos mostram que a IA está transformando a medicina ao melhorar a precisão diagnóstica, acelerar tratamentos e contribuir para a pesquisa de novos medicamentos e vacinas.\n",
      "\n",
      "### Resultados de Artigos Científicos\n",
      "Não foi realizada pesquisa por artigos científicos.\n"
     ]
    }
   ],
   "source": [
    "resultado = app.invoke({\"user_query\": \"Qual o impacto da IA na medicina? Use apenas fontes da Web\"})\n",
    "print(\"Resultado completo:\")\n",
    "print(resultado)\n",
    "print(\"\\nResposta final:\")\n",
    "print(resultado[\"final_answer\"])"
   ]
  },
  {
   "cell_type": "code",
   "execution_count": null,
   "metadata": {
    "colab": {
     "base_uri": "https://localhost:8080/"
    },
    "id": "7P2CzIlv-FGR",
    "outputId": "6a81a994-3942-4c76-89e8-7e303c5e3de2"
   },
   "outputs": [
    {
     "name": "stdout",
     "output_type": "stream",
     "text": [
      "Resultado completo:\n",
      "{'user_query': 'Qual o impacto da IA na medicina? Use apenas fontes científicas', 'scientific_answer': 'Os resultados da pesquisa sobre \"IA na medicina\" incluem os seguintes artigos:\\n* Revealing the Parametric Knowledge of Language Models: A Unified Framework for Attribution Methods\\n* Type Ia supernovae with and without blueshifted narrow Na I D lines - how different is their structure?\\n* A Second Case of Variable Na I D Lines in a Highly-Reddened Type Ia Supernova (with Erratum)', 'final_answer': '## Resultados de pesquisa combinados\\n\\n### Resultados da pesquisa na Web\\nNenhum resultado de pesquisa na web encontrado.\\n\\n### Resultados de Artigos Científicos\\nOs resultados da pesquisa sobre \"IA na medicina\" incluem os seguintes artigos:\\n* Revealing the Parametric Knowledge of Language Models: A Unified Framework for Attribution Methods\\n* Type Ia supernovae with and without blueshifted narrow Na I D lines - how different is their structure?\\n* A Second Case of Variable Na I D Lines in a Highly-Reddened Type Ia Supernova (with Erratum)'}\n",
      "\n",
      "Resposta final:\n",
      "## Resultados de pesquisa combinados\n",
      "\n",
      "### Resultados da pesquisa na Web\n",
      "Nenhum resultado de pesquisa na web encontrado.\n",
      "\n",
      "### Resultados de Artigos Científicos\n",
      "Os resultados da pesquisa sobre \"IA na medicina\" incluem os seguintes artigos:\n",
      "* Revealing the Parametric Knowledge of Language Models: A Unified Framework for Attribution Methods\n",
      "* Type Ia supernovae with and without blueshifted narrow Na I D lines - how different is their structure?\n",
      "* A Second Case of Variable Na I D Lines in a Highly-Reddened Type Ia Supernova (with Erratum)\n"
     ]
    }
   ],
   "source": [
    "resultado = app.invoke({\"user_query\": \"Qual o impacto da IA na medicina? Use apenas fontes científicas\"})\n",
    "print(\"Resultado completo:\")\n",
    "print(resultado)\n",
    "print(\"\\nResposta final:\")\n",
    "print(resultado[\"final_answer\"])"
   ]
  },
  {
   "cell_type": "code",
   "execution_count": null,
   "metadata": {
    "colab": {
     "base_uri": "https://localhost:8080/"
    },
    "id": "6kV5Dzhd_Ghn",
    "outputId": "e4641a03-ffba-4225-aefb-397ad183f1b9"
   },
   "outputs": [
    {
     "name": "stdout",
     "output_type": "stream",
     "text": [
      "Resultado completo:\n",
      "{'user_query': 'Qual o impacto da IA na medicina?', 'web_answer': 'A IA está transformando o futuro da medicina, proporcionando melhores cuidados para os pacientes e otimizando o trabalho dos profissionais de saúde. Seu impacto continuará a crescer nos próximos anos, moldando um futuro mais eficiente, acessível e personalizado para a saúde global. A IA pode trazer impactos diretos na quantidade de vidas salvas, principalmente quando se trata de oncologia. A taxa de sobrevivência de 5 anos para todos os tipos de câncer combinados aumentou de 50% na década de 1970 para cerca de 70% na atualidade, em países desenvolvidos. A IA tem se mostrado uma ferramenta poderosa para otimizar o tempo dos médicos e melhorar a precisão dos diagnósticos.\\n\\nPara mais informações, você pode acessar os seguintes links:\\n* [Como a IA Está a Mudar o Futuro da Medicina - L. R. Neves](https://lrneves.com/como-a-ia-esta-a-mudar-o-futuro-da-medicina/)\\n* [Inteligência artificial na medicina: entenda avanços, desafios e ...](https://www.infomoney.com.br/saude/inteligencia-artificial-na-medicina-entenda-avancos-desafios-e-impacto-na-saude/)', 'final_answer': '## Resultados de pesquisa combinados\\n\\n### Resultados da pesquisa na Web\\nA IA está transformando o futuro da medicina, proporcionando melhores cuidados para os pacientes e otimizando o trabalho dos profissionais de saúde. Seu impacto continuará a crescer nos próximos anos, moldando um futuro mais eficiente, acessível e personalizado para a saúde global. A IA pode trazer impactos diretos na quantidade de vidas salvas, principalmente quando se trata de oncologia. A taxa de sobrevivência de 5 anos para todos os tipos de câncer combinados aumentou de 50% na década de 1970 para cerca de 70% na atualidade, em países desenvolvidos. A IA tem se mostrado uma ferramenta poderosa para otimizar o tempo dos médicos e melhorar a precisão dos diagnósticos.\\n\\nPara mais informações, você pode acessar os seguintes links:\\n* [Como a IA Está a Mudar o Futuro da Medicina - L. R. Neves](https://lrneves.com/como-a-ia-esta-a-mudar-o-futuro-da-medicina/)\\n* [Inteligência artificial na medicina: entenda avanços, desafios e ...](https://www.infomoney.com.br/saude/inteligencia-artificial-na-medicina-entenda-avancos-desafios-e-impacto-na-saude/)\\n\\n### Resultados de Artigos Científicos\\nNenhum resultado de artigo científico encontrado.'}\n",
      "\n",
      "Resposta final:\n",
      "## Resultados de pesquisa combinados\n",
      "\n",
      "### Resultados da pesquisa na Web\n",
      "A IA está transformando o futuro da medicina, proporcionando melhores cuidados para os pacientes e otimizando o trabalho dos profissionais de saúde. Seu impacto continuará a crescer nos próximos anos, moldando um futuro mais eficiente, acessível e personalizado para a saúde global. A IA pode trazer impactos diretos na quantidade de vidas salvas, principalmente quando se trata de oncologia. A taxa de sobrevivência de 5 anos para todos os tipos de câncer combinados aumentou de 50% na década de 1970 para cerca de 70% na atualidade, em países desenvolvidos. A IA tem se mostrado uma ferramenta poderosa para otimizar o tempo dos médicos e melhorar a precisão dos diagnósticos.\n",
      "\n",
      "Para mais informações, você pode acessar os seguintes links:\n",
      "* [Como a IA Está a Mudar o Futuro da Medicina - L. R. Neves](https://lrneves.com/como-a-ia-esta-a-mudar-o-futuro-da-medicina/)\n",
      "* [Inteligência artificial na medicina: entenda avanços, desafios e ...](https://www.infomoney.com.br/saude/inteligencia-artificial-na-medicina-entenda-avancos-desafios-e-impacto-na-saude/)\n",
      "\n",
      "### Resultados de Artigos Científicos\n",
      "Nenhum resultado de artigo científico encontrado.\n"
     ]
    }
   ],
   "source": [
    "resultado = app.invoke({\"user_query\": \"Qual o impacto da IA na medicina?\"})\n",
    "print(\"Resultado completo:\")\n",
    "print(resultado)\n",
    "print(\"\\nResposta final:\")\n",
    "print(resultado[\"final_answer\"])"
   ]
  }
 ],
 "metadata": {
  "colab": {
   "provenance": []
  },
  "kernelspec": {
   "display_name": "lc-academy-env (3.11.9)",
   "language": "python",
   "name": "python3"
  },
  "language_info": {
   "codemirror_mode": {
    "name": "ipython",
    "version": 3
   },
   "file_extension": ".py",
   "mimetype": "text/x-python",
   "name": "python",
   "nbconvert_exporter": "python",
   "pygments_lexer": "ipython3",
   "version": "3.11.9"
  }
 },
 "nbformat": 4,
 "nbformat_minor": 0
}
